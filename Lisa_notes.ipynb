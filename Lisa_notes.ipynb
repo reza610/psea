{
  "nbformat": 4,
  "nbformat_minor": 0,
  "metadata": {
    "colab": {
      "provenance": [],
      "authorship_tag": "ABX9TyMT5YnAM+Mw17pdNhZgenAn",
      "include_colab_link": true
    },
    "kernelspec": {
      "name": "python3",
      "display_name": "Python 3"
    },
    "language_info": {
      "name": "python"
    }
  },
  "cells": [
    {
      "cell_type": "markdown",
      "metadata": {
        "id": "view-in-github",
        "colab_type": "text"
      },
      "source": [
        "<a href=\"https://colab.research.google.com/github/reza610/psea/blob/main/Lisa_notes.ipynb\" target=\"_parent\"><img src=\"https://colab.research.google.com/assets/colab-badge.svg\" alt=\"Open In Colab\"/></a>"
      ]
    },
    {
      "cell_type": "code",
      "execution_count": null,
      "metadata": {
        "id": "IUaFnhMEVVsk"
      },
      "outputs": [],
      "source": [
        "# prompt: get multiple files from github link\n",
        "\n",
        "!wget -q -O test.zip \"https://github.com/your_username/your_repo/archive/refs/heads/main.zip\"\n",
        "!unzip -qq test.zip\n"
      ]
    }
  ]
}